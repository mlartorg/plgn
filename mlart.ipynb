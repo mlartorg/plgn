{
 "cells": [
  {
   "cell_type": "markdown",
   "metadata": {
    "slideshow": {
     "slide_type": "skip"
    }
   },
   "source": [
    "### to serve this as slides, run this\n",
    "`jupyter nbconvert Documents\\mlart\\datafest\\projects\\intro.ipynb --to slides --post serve`\n",
    "\n",
    "refer to this medium post for more info https://medium.com/@mjspeck/presenting-code-using-jupyter-notebook-slides-a8a3c3b59d67"
   ]
  },
  {
   "cell_type": "markdown",
   "metadata": {
    "colab_type": "text",
    "id": "A2Q1W-gC0K0e",
    "slideshow": {
     "slide_type": "slide"
    }
   },
   "source": [
    "# 🤖📚🎨 Machine Learning Art"
   ]
  },
  {
   "cell_type": "markdown",
   "metadata": {
    "colab_type": "text",
    "id": "IvHIYA7YwIKC",
    "slideshow": {
     "slide_type": "slide"
    }
   },
   "source": [
    "# Что такое машинное обучение? \n",
    "\n",
    "<video src=\"assets/dumbnet.mp4\"></video>"
   ]
  },
  {
   "cell_type": "markdown",
   "metadata": {
    "slideshow": {
     "slide_type": "slide"
    }
   },
   "source": [
    "# Инструменты дата сайнтистов\n",
    "<video src=\"assets/perceptilabs.mp4\"></video>\n",
    "\n",
    "- Python / jupyter notebook\n",
    "- Deep Learning Frameworks (tensorflow / torch / etc)\n"
   ]
  },
  {
   "cell_type": "markdown",
   "metadata": {
    "slideshow": {
     "slide_type": "slide"
    }
   },
   "source": [
    "# Почему это интересно? \n",
    "<video src=\"assets/Single_shot_gif.mp4\"></video>\n"
   ]
  },
  {
   "cell_type": "markdown",
   "metadata": {
    "slideshow": {
     "slide_type": "slide"
    }
   },
   "source": [
    "<img src=\"assets/simulations.png\"></img>"
   ]
  },
  {
   "cell_type": "markdown",
   "metadata": {
    "slideshow": {
     "slide_type": "slide"
    }
   },
   "source": [
    "# Open call for mlart.org online gallery\n",
    "<img src=\"assets/eclipse.jpg\"></img>"
   ]
  }
 ],
 "metadata": {
  "accelerator": "GPU",
  "celltoolbar": "Slideshow",
  "colab": {
   "collapsed_sections": [],
   "name": "ML ART: project presentation",
   "provenance": []
  },
  "kernelspec": {
   "display_name": "Python 3",
   "language": "python",
   "name": "python3"
  },
  "language_info": {
   "codemirror_mode": {
    "name": "ipython",
    "version": 3
   },
   "file_extension": ".py",
   "mimetype": "text/x-python",
   "name": "python",
   "nbconvert_exporter": "python",
   "pygments_lexer": "ipython3",
   "version": "3.6.8"
  }
 },
 "nbformat": 4,
 "nbformat_minor": 1
}
